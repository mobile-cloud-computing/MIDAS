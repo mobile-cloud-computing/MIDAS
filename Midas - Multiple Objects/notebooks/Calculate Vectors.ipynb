{
 "cells": [
  {
   "cell_type": "code",
   "execution_count": 1,
   "metadata": {},
   "outputs": [],
   "source": [
    "import numpy as np"
   ]
  },
  {
   "cell_type": "code",
   "execution_count": 2,
   "metadata": {},
   "outputs": [
    {
     "name": "stdout",
     "output_type": "stream",
     "text": [
      "(3, 10)\n",
      "[1.         1.40365854 1.415      1.5777439  1.59317073 1.48804878\n",
      " 1.71853659 1.6322561  1.23054878 1.6952439  1.44115854 1.33115854\n",
      " 1.27335366 1.06439024 1.27628049 1.64243902 1.46914634 1.34579268\n",
      " 1.16713415 1.40640244 0.90664634 1.27756098 0.33231707 0.67353659\n",
      " 0.4845122  0.3547561  0.14780488 0.28963415 0.34512195 0.40262195]\n"
     ]
    }
   ],
   "source": [
    "test = np.load('Data/natural/plastic/plastic_p_19.npz')\n",
    "data = test['samples']\n",
    "data1d = data.ravel() \n",
    "print(data.shape)\n",
    "print(data1d)"
   ]
  },
  {
   "cell_type": "code",
   "execution_count": null,
   "metadata": {},
   "outputs": [],
   "source": []
  }
 ],
 "metadata": {
  "kernelspec": {
   "display_name": "Python 3",
   "language": "python",
   "name": "python3"
  },
  "language_info": {
   "codemirror_mode": {
    "name": "ipython",
    "version": 3
   },
   "file_extension": ".py",
   "mimetype": "text/x-python",
   "name": "python",
   "nbconvert_exporter": "python",
   "pygments_lexer": "ipython3",
   "version": "3.7.4"
  }
 },
 "nbformat": 4,
 "nbformat_minor": 2
}
