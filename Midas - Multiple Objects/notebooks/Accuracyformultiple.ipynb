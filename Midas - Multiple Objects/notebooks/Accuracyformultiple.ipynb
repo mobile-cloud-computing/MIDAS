{
 "cells": [
  {
   "cell_type": "code",
   "execution_count": 9,
   "id": "f3ad0228",
   "metadata": {},
   "outputs": [],
   "source": [
    "from sklearn.metrics import hamming_loss"
   ]
  },
  {
   "cell_type": "code",
   "execution_count": 1,
   "id": "2d97824e",
   "metadata": {},
   "outputs": [],
   "source": [
    "def compute_accuracy(y_true, y_pred):\n",
    "    correct_predictions = 0\n",
    "    # iterate over each label and check\n",
    "    for true, predicted in zip(y_true, y_pred):\n",
    "        if true == predicted:\n",
    "            correct_predictions += 1\n",
    "    # compute the accuracy\n",
    "    accuracy = correct_predictions/len(y_true)\n",
    "    return accuracy"
   ]
  },
  {
   "cell_type": "markdown",
   "id": "ad425bb0",
   "metadata": {},
   "source": [
    "\"0\" denotes Coffee Cup <br>\n",
    "\"1\" denotes Plastic Bottle <br>\n",
    "\"2\" denotes Cigg"
   ]
  },
  {
   "cell_type": "code",
   "execution_count": 11,
   "id": "41375525",
   "metadata": {},
   "outputs": [
    {
     "data": {
      "text/plain": [
       "0.5833333333333334"
      ]
     },
     "execution_count": 11,
     "metadata": {},
     "output_type": "execute_result"
    }
   ],
   "source": [
    "# sample labels\n",
    "\n",
    "# # For two objects (Bottle and Cigg)\n",
    "# y_true = [1, 1, 1, 2, 2, 2]\n",
    "# y_pred = [1, 1, 1, 2, 2, 2]\n",
    "\n",
    "# # For two objects (Bottle and CoffeeCup)\n",
    "# y_true = [0, 0, 0, 1, 1,1]\n",
    "# y_pred = [0, 0, 1, 1, 1,1]\n",
    "\n",
    "# For two objects (Coffee Cup and Cigg)\n",
    "# y_true = [0, 0, 0, 2, 2, 2]\n",
    "# y_pred = [0, 0, 0, 2, 2, 1]\n",
    "\n",
    "# For three objects (Bottle, Coffee Cup and Cigg)\n",
    "# y_true = [0, 0, 0, 1, 1, 1, 2, 2, 2]\n",
    "# y_pred = [0, 0, 0, 0, 1, 1, 2, 0, 2]\n",
    "\n",
    "# For four Objects (Coffee Cup, Plastic Bottle, Cigg Butt and Face Mask (Unknown material for model- let us denote it by 3))\n",
    "y_true = [0, 0, 0, 1, 1, 1, 2, 2, 2, 3 , 3, 3]\n",
    "y_pred = [0, 0, 1, 1, 1, 1, 2, 1, 2, 2, 1, 2]\n",
    "# get the accuracy\n",
    "compute_accuracy(y_true, y_pred)\n"
   ]
  },
  {
   "cell_type": "code",
   "execution_count": 12,
   "id": "4cdc6bfd",
   "metadata": {},
   "outputs": [
    {
     "data": {
      "text/plain": [
       "0.4166666666666667"
      ]
     },
     "execution_count": 12,
     "metadata": {},
     "output_type": "execute_result"
    }
   ],
   "source": [
    "hamming_loss(y_true, y_pred)"
   ]
  },
  {
   "cell_type": "code",
   "execution_count": null,
   "id": "c30e17cf",
   "metadata": {},
   "outputs": [],
   "source": [
    " "
   ]
  }
 ],
 "metadata": {
  "kernelspec": {
   "display_name": "Python 3 (ipykernel)",
   "language": "python",
   "name": "python3"
  },
  "language_info": {
   "codemirror_mode": {
    "name": "ipython",
    "version": 3
   },
   "file_extension": ".py",
   "mimetype": "text/x-python",
   "name": "python",
   "nbconvert_exporter": "python",
   "pygments_lexer": "ipython3",
   "version": "3.9.7"
  }
 },
 "nbformat": 4,
 "nbformat_minor": 5
}
